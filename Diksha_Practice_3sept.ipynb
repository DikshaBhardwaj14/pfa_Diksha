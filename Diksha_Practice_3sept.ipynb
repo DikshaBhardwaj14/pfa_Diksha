{
 "cells": [
  {
   "cell_type": "code",
   "execution_count": 8,
   "id": "c19ec641",
   "metadata": {},
   "outputs": [],
   "source": [
    "#.............EXERCISE 3............"
   ]
  },
  {
   "cell_type": "code",
   "execution_count": 7,
   "id": "b64e702f",
   "metadata": {},
   "outputs": [
    {
     "name": "stdout",
     "output_type": "stream",
     "text": [
      "No. is smaller than 10\n",
      "This statement will always be executed\n"
     ]
    }
   ],
   "source": [
    "#Q6.\n",
    "num=5\n",
    "if num<10:\n",
    "    print(\"No. is smaller than 10\")\n",
    "print(\"This statement will always be executed\")"
   ]
  },
  {
   "cell_type": "code",
   "execution_count": 3,
   "id": "eb97a1b4",
   "metadata": {},
   "outputs": [
    {
     "name": "stdout",
     "output_type": "stream",
     "text": [
      "Passing_score: 60\n",
      "my_score: 70\n",
      "Congratulations! You have passed your exam\n"
     ]
    }
   ],
   "source": [
    "#Q7.\n",
    "x= float(input(\"Passing_score: \"))\n",
    "y= float(input(\"my_score: \"))\n",
    "if y >=60:\n",
    "    print(\"Congratulations! You have passed your exam\")\n",
    "else:\n",
    "    print(\"you need to work hard\")"
   ]
  },
  {
   "cell_type": "code",
   "execution_count": 1,
   "id": "722d9ca0",
   "metadata": {},
   "outputs": [
    {
     "name": "stdout",
     "output_type": "stream",
     "text": [
      "Passing_score: 30\n",
      "my_score: 20\n",
      "You need to work hard\n"
     ]
    }
   ],
   "source": [
    "#Q7.\n",
    "x= float(input(\"Passing_score: \"))\n",
    "y= float(input(\"My_score: \"))\n",
    "#passing score is minimum score to pass in the exam and my score is obtained by the student\n",
    "#if a students scores more that passing score the below message will appear.\n",
    "if y>=x: \n",
    "    print(\"Congratulations! You have passed your exam\")\n",
    "else:\n",
    "    print(\"You need to work hard\")"
   ]
  },
  {
   "cell_type": "code",
   "execution_count": 2,
   "id": "7d11cd76",
   "metadata": {},
   "outputs": [
    {
     "name": "stdout",
     "output_type": "stream",
     "text": [
      "Number is positive\n",
      "Number is less than 10\n"
     ]
    }
   ],
   "source": [
    "#Q8.\n",
    "num=5\n",
    "if num>0:\n",
    "    print(\"Number is positive\")\n",
    "if num<10:\n",
    "    print(\"Number is less than 10\")"
   ]
  },
  {
   "cell_type": "code",
   "execution_count": 4,
   "id": "5e33fd51",
   "metadata": {},
   "outputs": [
    {
     "name": "stdout",
     "output_type": "stream",
     "text": [
      "Enter a number: .5\n",
      "Number is greater than 0\n"
     ]
    }
   ],
   "source": [
    "#Q9.\n",
    "n=float(input(\"Enter a number: \"))\n",
    "#in the below condition first condition will verify if number is not equal to 0 and another if condition states if it is greater than 0.\n",
    "\n",
    "if n!=0:\n",
    "    if n>0:\n",
    "         print(\"Number is greater than 0\")\n"
   ]
  },
  {
   "cell_type": "code",
   "execution_count": 3,
   "id": "38df42d5",
   "metadata": {},
   "outputs": [
    {
     "name": "stdout",
     "output_type": "stream",
     "text": [
      "Enter the First number: 10\n",
      "Enter the Second number: 20\n",
      "Enter the Third number: 30\n",
      "All Statements are true\n"
     ]
    }
   ],
   "source": [
    "#Q10.\n",
    "num1 = float(input(\"Enter the First number: \"))\n",
    "num2= float(input(\"Enter the Second number: \"))\n",
    "num3= float(input(\"Enter the Third number: \"))\n",
    "#using and statement in below statements\n",
    "if num1==10 and num2== 20 and num3==30:\n",
    "    print(\"All Statements are true\")\n",
    "\n"
   ]
  },
  {
   "cell_type": "code",
   "execution_count": 6,
   "id": "d27a0bb6",
   "metadata": {},
   "outputs": [
    {
     "name": "stdout",
     "output_type": "stream",
     "text": [
      "Enter the name of fruitApple\n",
      "It's a fruit\n"
     ]
    }
   ],
   "source": [
    "#Q11.\n",
    "x=str(input(\"Enter the name of fruit\"))\n",
    "\n",
    "if x==\"Mango\" or x==\"Apple\" or x==\"Grapes\":\n",
    "    print(\"It's a fruit\")\n"
   ]
  },
  {
   "cell_type": "code",
   "execution_count": null,
   "id": "2faea74d",
   "metadata": {},
   "outputs": [],
   "source": [
    "#..........EXERCISE 4..............."
   ]
  },
  {
   "cell_type": "code",
   "execution_count": 10,
   "id": "614f25de",
   "metadata": {},
   "outputs": [
    {
     "name": "stdout",
     "output_type": "stream",
     "text": [
      "1 10.0\n",
      "2 15.0\n",
      "3 20.0\n",
      "4 25.0\n",
      "5 30.0\n",
      "Average of list is  30.0\n"
     ]
    }
   ],
   "source": [
    "#Q1. \n",
    "Sum=0\n",
    "Count=0\n",
    "x=[10,20,30,40,50]\n",
    "for n in x:\n",
    "    Sum = Sum +n\n",
    "    Count=Count+1\n",
    "    Average= Sum/Count\n",
    "    print(Count, Average)\n",
    "print('Average of list is ',Average)"
   ]
  },
  {
   "cell_type": "code",
   "execution_count": 12,
   "id": "fcfd3b48",
   "metadata": {},
   "outputs": [
    {
     "name": "stdout",
     "output_type": "stream",
     "text": [
      "Apple\n",
      "Banana\n",
      "Grapes\n",
      "Strawberry\n",
      "Kiwi\n"
     ]
    }
   ],
   "source": [
    "#Q2.\n",
    "Fruits=[\"Apple\",\"Banana\",\"Grapes\",\"Strawberry\",\"Kiwi\"]\n",
    "for n in Fruits:\n",
    "    print(n)"
   ]
  },
  {
   "cell_type": "code",
   "execution_count": null,
   "id": "0bbf6795",
   "metadata": {},
   "outputs": [],
   "source": []
  }
 ],
 "metadata": {
  "kernelspec": {
   "display_name": "Python 3",
   "language": "python",
   "name": "python3"
  },
  "language_info": {
   "codemirror_mode": {
    "name": "ipython",
    "version": 3
   },
   "file_extension": ".py",
   "mimetype": "text/x-python",
   "name": "python",
   "nbconvert_exporter": "python",
   "pygments_lexer": "ipython3",
   "version": "3.8.8"
  }
 },
 "nbformat": 4,
 "nbformat_minor": 5
}
