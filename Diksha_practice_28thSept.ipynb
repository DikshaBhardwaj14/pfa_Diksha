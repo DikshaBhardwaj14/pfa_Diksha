{
 "cells": [
  {
   "cell_type": "code",
   "execution_count": null,
   "id": "6a4d17a8",
   "metadata": {},
   "outputs": [],
   "source": [
    "### Creating an empty list and assigning it to L variable.\n",
    "L=[]\n",
    "# Asking for number of elements in list and further asking about each element to be entered in the list.\n",
    "x= int(input(\"Enter the number of elements in the list: \"))\n",
    "for i in range(x):\n",
    "    m=input(\"Enter the elements :\")\n",
    "    L.append(m)\n",
    "#Print the appended list assigned to L.\n",
    "print(L)\n",
    "#Defining the first element of the list.\n",
    "Ist=L[0]\n",
    "#replacing fist and last elements of the lists.\n",
    "L[0]=L[-1]\n",
    "L[-1]=Ist\n",
    "print(L)\n"
   ]
  },
  {
   "cell_type": "code",
   "execution_count": 17,
   "id": "de6a79cc",
   "metadata": {},
   "outputs": [
    {
     "name": "stdout",
     "output_type": "stream",
     "text": [
      "5\n"
     ]
    }
   ],
   "source": [
    "#Making a list and assigning it to variable list.\n",
    "list=[1,4,5,7,8]\n",
    "#printing length of the above list.\n",
    "print(len(list))"
   ]
  },
  {
   "cell_type": "code",
   "execution_count": 1,
   "id": "4928d276",
   "metadata": {},
   "outputs": [
    {
     "name": "stdout",
     "output_type": "stream",
     "text": [
      "['Geeks', 'Are', 'For', 'Geeks']\n",
      "Length of the list: 4\n"
     ]
    }
   ],
   "source": [
    "#Creating and empty list\n",
    "x=[]\n",
    "#Appending \"Geeks\",\"Are\",\"For,\"Geeks\" in the list called x.\n",
    "x.append(\"Geeks\")\n",
    "x.append(\"Are\")\n",
    "x.append(\"For\")\n",
    "x.append(\"Geeks\")\n",
    "#print the list x.\n",
    "print(x)\n",
    "#length of the list.\n",
    "print(\"Length of the list:\", len(x))"
   ]
  },
  {
   "cell_type": "code",
   "execution_count": 15,
   "id": "186e5f80",
   "metadata": {},
   "outputs": [
    {
     "name": "stdout",
     "output_type": "stream",
     "text": [
      "Enter the Ist number:  100\n",
      "Enter the IInd number:  3\n",
      "[100, 3]\n",
      "Maximum number is 100 and minimun number is 3\n"
     ]
    }
   ],
   "source": [
    "#Asking for input.\n",
    "i=int(input(\"Enter the Ist number:  \"))\n",
    "j=int(input(\"Enter the IInd number:  \"))\n",
    "#Creating an empty list.\n",
    "x=[]\n",
    "#Appending both the input in the empty list\n",
    "x.append(i)\n",
    "x.append(j)\n",
    "print(x)\n",
    "#Printing maximum and minimum number\n",
    "print(\"Maximum number is\",max(x),\"and minimun number is\",min(x))\n",
    "\n"
   ]
  },
  {
   "cell_type": "code",
   "execution_count": null,
   "id": "1a1b1a60",
   "metadata": {},
   "outputs": [],
   "source": []
  }
 ],
 "metadata": {
  "kernelspec": {
   "display_name": "Python 3",
   "language": "python",
   "name": "python3"
  },
  "language_info": {
   "codemirror_mode": {
    "name": "ipython",
    "version": 3
   },
   "file_extension": ".py",
   "mimetype": "text/x-python",
   "name": "python",
   "nbconvert_exporter": "python",
   "pygments_lexer": "ipython3",
   "version": "3.8.8"
  }
 },
 "nbformat": 4,
 "nbformat_minor": 5
}
