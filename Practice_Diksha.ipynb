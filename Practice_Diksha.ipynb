{
 "cells": [
  {
   "cell_type": "code",
   "execution_count": null,
   "id": "ba8e21fc",
   "metadata": {},
   "outputs": [],
   "source": [
    "#....................EXERCISE 1....................."
   ]
  },
  {
   "cell_type": "code",
   "execution_count": 4,
   "id": "ab529837",
   "metadata": {},
   "outputs": [
    {
     "name": "stdout",
     "output_type": "stream",
     "text": [
      "0.625\n",
      "17\n"
     ]
    }
   ],
   "source": [
    "#example\n",
    "print(5/8)\n",
    "\n",
    "#Addition of 7 and 10 \n",
    "print(7+10)"
   ]
  },
  {
   "cell_type": "code",
   "execution_count": null,
   "id": "e4c23606",
   "metadata": {},
   "outputs": [],
   "source": [
    "#example\n",
    "print(5/8)\n",
    "\n",
    "#Addition \n",
    "#7 and 10\n",
    "print(7+10)"
   ]
  },
  {
   "cell_type": "code",
   "execution_count": 6,
   "id": "eb897d48",
   "metadata": {},
   "outputs": [
    {
     "name": "stdout",
     "output_type": "stream",
     "text": [
      "10\n",
      "0\n",
      "15\n",
      "5.0\n",
      "4\n",
      "16\n"
     ]
    }
   ],
   "source": [
    "#Addition and subtraction result of 5 with 5\n",
    "print(5+5)\n",
    "print(5-5)\n",
    "\n",
    "#Mulitplication\n",
    "print(3*5)\n",
    "\n",
    "#Division\n",
    "print(10/2)\n",
    "\n",
    "#Remainder of 18/7\n",
    "print(18%7)\n",
    "\n",
    "#Square of 4 \n",
    "print(4**2)\n",
    "\n"
   ]
  },
  {
   "cell_type": "code",
   "execution_count": 13,
   "id": "cbf99728",
   "metadata": {},
   "outputs": [
    {
     "name": "stdout",
     "output_type": "stream",
     "text": [
      "1750.0000000000002\n",
      "6750\n"
     ]
    }
   ],
   "source": [
    "#Q4 1. Principal=5000, Rate= 7%, Time=5 years\n",
    "#SI=P*R*T\n",
    "print(5000*.07*5)\n",
    "#a. 1750.00\n",
    "# total value = Principal+Simple Interest\n",
    "print(5000+1750)\n",
    "#b.6750"
   ]
  },
  {
   "cell_type": "code",
   "execution_count": 14,
   "id": "c4376e26",
   "metadata": {},
   "outputs": [
    {
     "name": "stdout",
     "output_type": "stream",
     "text": [
      "7.0\n"
     ]
    }
   ],
   "source": [
    "#Q4 2.Principal=8000, Rate=8.7%, Interest=4872 \n",
    "#Time=Interest/(principal*rate)\n",
    "print(4872/(8000*.087))\n"
   ]
  },
  {
   "cell_type": "code",
   "execution_count": 16,
   "id": "d73ab752",
   "metadata": {},
   "outputs": [
    {
     "name": "stdout",
     "output_type": "stream",
     "text": [
      "6.550000000000001\n"
     ]
    }
   ],
   "source": [
    "#Q4 3.Principal=3000, Time=4 years, Interest=768\n",
    "# Rate= Interest/(principal*time)\n",
    "print((786/(3000*4))*100)\n"
   ]
  },
  {
   "cell_type": "code",
   "execution_count": 22,
   "id": "558ea6d1",
   "metadata": {},
   "outputs": [
    {
     "name": "stdout",
     "output_type": "stream",
     "text": [
      "194.87171000000012\n"
     ]
    }
   ],
   "source": [
    "#Q5 Principal=100, Rate=10%, Time=7 years\n",
    "print(100*((1.1)**7))"
   ]
  },
  {
   "cell_type": "code",
   "execution_count": null,
   "id": "2fdf4112",
   "metadata": {},
   "outputs": [],
   "source": [
    "# ..................EXERCISE 2........................"
   ]
  },
  {
   "cell_type": "code",
   "execution_count": 24,
   "id": "b7a02bc7",
   "metadata": {},
   "outputs": [
    {
     "name": "stdout",
     "output_type": "stream",
     "text": [
      "100\n",
      "194.87171000000012\n"
     ]
    }
   ],
   "source": [
    "# Q1\n",
    "savings=100\n",
    "print(savings)\n",
    "#Q2\n",
    "growth_multiplier=1.1\n",
    "\n",
    "result=(savings*(growth_multiplier**7))\n",
    "print(result)"
   ]
  },
  {
   "cell_type": "code",
   "execution_count": 26,
   "id": "11370771",
   "metadata": {},
   "outputs": [],
   "source": [
    "#Q3. \n",
    "desc=\"compound interest\"\n",
    "profitable=True"
   ]
  },
  {
   "cell_type": "code",
   "execution_count": 49,
   "id": "b4284164",
   "metadata": {},
   "outputs": [
    {
     "data": {
      "text/plain": [
       "float"
      ]
     },
     "execution_count": 49,
     "metadata": {},
     "output_type": "execute_result"
    }
   ],
   "source": [
    "#Q4.\n",
    "A=10.7\n",
    "B=\"This is python course\"\n",
    "C=False\n",
    "type(A)\n",
    "type(B)\n",
    "type(C)\n"
   ]
  },
  {
   "cell_type": "code",
   "execution_count": 50,
   "id": "2c74af17",
   "metadata": {},
   "outputs": [
    {
     "data": {
      "text/plain": [
       "int"
      ]
     },
     "execution_count": 50,
     "metadata": {},
     "output_type": "execute_result"
    }
   ],
   "source": [
    "#type savings\n",
    "type(savings)"
   ]
  },
  {
   "cell_type": "code",
   "execution_count": 51,
   "id": "879da24b",
   "metadata": {},
   "outputs": [
    {
     "data": {
      "text/plain": [
       "bool"
      ]
     },
     "execution_count": 51,
     "metadata": {},
     "output_type": "execute_result"
    }
   ],
   "source": [
    "#type Profitable\n",
    "type(profitable)"
   ]
  },
  {
   "cell_type": "code",
   "execution_count": 53,
   "id": "d39cf425",
   "metadata": {},
   "outputs": [
    {
     "data": {
      "text/plain": [
       "str"
      ]
     },
     "execution_count": 53,
     "metadata": {},
     "output_type": "execute_result"
    }
   ],
   "source": [
    "#type desc\n",
    "type(desc)"
   ]
  },
  {
   "cell_type": "code",
   "execution_count": 55,
   "id": "4cf2ce3e",
   "metadata": {},
   "outputs": [
    {
     "data": {
      "text/plain": [
       "float"
      ]
     },
     "execution_count": 55,
     "metadata": {},
     "output_type": "execute_result"
    }
   ],
   "source": [
    "#type growth_multiplier\n",
    "type(growth_multiplier)"
   ]
  },
  {
   "cell_type": "code",
   "execution_count": 62,
   "id": "8f2a6565",
   "metadata": {},
   "outputs": [
    {
     "name": "stdout",
     "output_type": "stream",
     "text": [
      "<class 'float'>\n",
      "compound interestcompound interest\n"
     ]
    }
   ],
   "source": [
    "#Q5.\n",
    "year1=(savings*growth_multiplier)\n",
    "#printing type of year1 \n",
    "print(type(year1))\n",
    "\n",
    "# Sum of desc and desc in Doubledesc variable\n",
    "doubledesc= desc + desc\n",
    "\n",
    "#printing doubledesc\n",
    "print(doubledesc)"
   ]
  },
  {
   "cell_type": "code",
   "execution_count": 66,
   "id": "d257ebf9",
   "metadata": {},
   "outputs": [
    {
     "name": "stdout",
     "output_type": "stream",
     "text": [
      "I started with $100and now have $194.87171000000012. Awesome!\n"
     ]
    }
   ],
   "source": [
    "#Q6. \n",
    "savings= 100\n",
    "result= (100 *1.1 **7)\n",
    "#fixed the error by using string functiion on both variables\n",
    "print(\"I started with $\"+ str(savings) +\"and now have $\"+ str(result)+\". Awesome!\")"
   ]
  },
  {
   "cell_type": "code",
   "execution_count": 2,
   "id": "f46d0029",
   "metadata": {},
   "outputs": [
    {
     "name": "stdout",
     "output_type": "stream",
     "text": [
      "6.2831852\n"
     ]
    }
   ],
   "source": [
    "#Q7.\n",
    "pi_string=\"3.1415926\"\n",
    "# converting pi string to pi float\n",
    "pi_float= float(pi_string)\n",
    "\n",
    "# mutliplying by 2 \n",
    "double_pi=pi_float*2\n",
    "print(double_pi)\n"
   ]
  },
  {
   "cell_type": "code",
   "execution_count": 38,
   "id": "075ab7b3",
   "metadata": {},
   "outputs": [
    {
     "ename": "TypeError",
     "evalue": "can only concatenate str (not \"int\") to str",
     "output_type": "error",
     "traceback": [
      "\u001b[1;31m---------------------------------------------------------------------------\u001b[0m",
      "\u001b[1;31mTypeError\u001b[0m                                 Traceback (most recent call last)",
      "\u001b[1;32m<ipython-input-38-6f67c2e5c045>\u001b[0m in \u001b[0;36m<module>\u001b[1;34m\u001b[0m\n\u001b[0;32m      5\u001b[0m \u001b[1;34m\"I said \"\u001b[0m \u001b[1;33m+\u001b[0m\u001b[1;33m(\u001b[0m\u001b[1;34m\"hey\"\u001b[0m\u001b[1;33m*\u001b[0m\u001b[1;36m2\u001b[0m \u001b[1;33m)\u001b[0m \u001b[1;33m+\u001b[0m\u001b[1;34m\" hey\"\u001b[0m\u001b[1;33m\u001b[0m\u001b[1;33m\u001b[0m\u001b[0m\n\u001b[0;32m      6\u001b[0m \u001b[1;31m# statement 3\u001b[0m\u001b[1;33m\u001b[0m\u001b[1;33m\u001b[0m\u001b[1;33m\u001b[0m\u001b[0m\n\u001b[1;32m----> 7\u001b[1;33m \u001b[1;34m\"The correct answer to this multiple choice exercise is answer number\"\u001b[0m\u001b[1;33m+\u001b[0m \u001b[1;36m2\u001b[0m\u001b[1;33m\u001b[0m\u001b[1;33m\u001b[0m\u001b[0m\n\u001b[0m\u001b[0;32m      8\u001b[0m \u001b[1;31m#statement 4\u001b[0m\u001b[1;33m\u001b[0m\u001b[1;33m\u001b[0m\u001b[1;33m\u001b[0m\u001b[0m\n\u001b[0;32m      9\u001b[0m \u001b[1;32mTrue\u001b[0m \u001b[1;33m+\u001b[0m \u001b[1;32mFalse\u001b[0m\u001b[1;33m\u001b[0m\u001b[1;33m\u001b[0m\u001b[0m\n",
      "\u001b[1;31mTypeError\u001b[0m: can only concatenate str (not \"int\") to str"
     ]
    }
   ],
   "source": [
    "#8. option 3 will show error as 2 is not converted in to a string.\n",
    "#statement 1\n",
    "\" I can add intergers, like \"+str(5)+\" to strings\"\n",
    "# statement 2\n",
    "\"I said \" +(\"hey\"*2 ) +\" hey\"\n",
    "# statement 3\n",
    "\"The correct answer to this multiple choice exercise is answer number\"+ 2\n",
    "#statement 4 \n",
    "True + False"
   ]
  },
  {
   "cell_type": "code",
   "execution_count": null,
   "id": "bfda5842",
   "metadata": {},
   "outputs": [],
   "source": [
    "#..................Exercise 3 ...................\n"
   ]
  },
  {
   "cell_type": "code",
   "execution_count": 15,
   "id": "1a3debf7",
   "metadata": {},
   "outputs": [
    {
     "name": "stdout",
     "output_type": "stream",
     "text": [
      "Enter a number :25\n",
      "This is an odd number\n"
     ]
    }
   ],
   "source": [
    "#Q1 To Check whether a number is even or odd.\n",
    "y=input(\"Enter a number :\")\n",
    "x=float(y)\n",
    "if x%2==0:\n",
    "    print(\"This is an even number\")\n",
    "else:\n",
    "    print(\"This is an odd number\")"
   ]
  },
  {
   "cell_type": "code",
   "execution_count": 18,
   "id": "e8e3a36a",
   "metadata": {},
   "outputs": [
    {
     "name": "stdout",
     "output_type": "stream",
     "text": [
      "Enter temperature in °C :24\n",
      "75.2\n"
     ]
    }
   ],
   "source": [
    "#Q2 Converting temperature from celsius to Fahrenheit\n",
    "x= input(\"Enter temperature in °C :\")\n",
    "X=float(x)\n",
    "F=((X*1.8)+32)\n",
    "print(F)\n",
    "\n",
    "\n"
   ]
  },
  {
   "cell_type": "code",
   "execution_count": 28,
   "id": "728a1292",
   "metadata": {},
   "outputs": [
    {
     "name": "stdout",
     "output_type": "stream",
     "text": [
      "5.332682251925386\n"
     ]
    }
   ],
   "source": [
    "#Q3 Area of a triangle with side 4,3 and 6\n",
    "\n",
    "import math\n",
    "\n",
    "A=4.0\n",
    "B=3.0\n",
    "C=6.0\n",
    "S= (A+B+C)/2\n",
    "Area= math.sqrt(S*(S-A)*(S-B)*(S-C))\n",
    "print(Area)"
   ]
  },
  {
   "cell_type": "code",
   "execution_count": 33,
   "id": "ed648c7b",
   "metadata": {},
   "outputs": [
    {
     "name": "stdout",
     "output_type": "stream",
     "text": [
      "Enter radius: 5\n",
      "Circumference is  31.41592653589793\n",
      "Area is 78.53981633974483\n"
     ]
    }
   ],
   "source": [
    "#Python program to find the circumference and area of a circle with a given radius\n",
    "x= input(\"Enter radius: \")\n",
    "y=float(x)\n",
    "C= (2 * math.pi * y)\n",
    "A= (math.pi *(y**2))\n",
    "\n",
    "print(\"Circumference is \",C)\n",
    "print(\"Area is\" ,A)\n"
   ]
  },
  {
   "cell_type": "code",
   "execution_count": 37,
   "id": "8f6b808e",
   "metadata": {},
   "outputs": [
    {
     "name": "stdout",
     "output_type": "stream",
     "text": [
      "Enter a number : 43\n",
      "43.0 is Not a multiple of 5\n"
     ]
    }
   ],
   "source": [
    "#To check whether the given integer is a multiple of 5\n",
    "\n",
    "m=input(\"Enter a number : \")\n",
    "n=float(m)\n",
    "if n%5==0:\n",
    "    print(n, \" is a Multiple of 5\")\n",
    "else:\n",
    "    print(n, \"is Not a multiple of 5\")\n",
    "    "
   ]
  },
  {
   "cell_type": "code",
   "execution_count": null,
   "id": "12d3f039",
   "metadata": {},
   "outputs": [],
   "source": []
  }
 ],
 "metadata": {
  "kernelspec": {
   "display_name": "Python 3",
   "language": "python",
   "name": "python3"
  },
  "language_info": {
   "codemirror_mode": {
    "name": "ipython",
    "version": 3
   },
   "file_extension": ".py",
   "mimetype": "text/x-python",
   "name": "python",
   "nbconvert_exporter": "python",
   "pygments_lexer": "ipython3",
   "version": "3.8.8"
  }
 },
 "nbformat": 4,
 "nbformat_minor": 5
}
